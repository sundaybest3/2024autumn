{
  "nbformat": 4,
  "nbformat_minor": 0,
  "metadata": {
    "colab": {
      "provenance": [],
      "authorship_tag": "ABX9TyM/ed+4N8x5Psf/1MEw8CEo",
      "include_colab_link": true
    },
    "kernelspec": {
      "name": "python3",
      "display_name": "Python 3"
    },
    "language_info": {
      "name": "python"
    }
  },
  "cells": [
    {
      "cell_type": "markdown",
      "metadata": {
        "id": "view-in-github",
        "colab_type": "text"
      },
      "source": [
        "<a href=\"https://colab.research.google.com/github/sundaybest3/2024autumn/blob/main/Lesson3.ipynb\" target=\"_parent\"><img src=\"https://colab.research.google.com/assets/colab-badge.svg\" alt=\"Open In Colab\"/></a>"
      ]
    },
    {
      "cell_type": "code",
      "source": [
        "# This is a comment line <= This is a comment line\n",
        "\n",
        "print(\"Hello, Python!\") # this is a code line"
      ],
      "metadata": {
        "id": "mcatxPftGxJ2"
      },
      "execution_count": null,
      "outputs": []
    },
    {
      "cell_type": "code",
      "execution_count": 1,
      "metadata": {
        "colab": {
          "base_uri": "https://localhost:8080/"
        },
        "id": "L9gWZr6JF7S1",
        "outputId": "852b9800-5ac9-4dc0-c111-6725ae575601"
      },
      "outputs": [
        {
          "output_type": "stream",
          "name": "stdout",
          "text": [
            "Hello, Python\n",
            "This is the output\n"
          ]
        }
      ],
      "source": [
        "# This is a comment line.\n",
        "\n",
        "print(\"Hello, Python\") # This is a code line.\n",
        "print(\"This is the output\") #Comment can also be written this way."
      ]
    },
    {
      "cell_type": "markdown",
      "source": [
        "# This is a Heading 1."
      ],
      "metadata": {
        "id": "p06HciBHG0iV"
      }
    },
    {
      "cell_type": "code",
      "source": [
        "name = input ()\n",
        "print(f\"My name is {name}.\")\n"
      ],
      "metadata": {
        "colab": {
          "base_uri": "https://localhost:8080/"
        },
        "id": "8zVQS_HMIkEe",
        "outputId": "db0e8b91-e872-45c4-a3d1-b1df676b0908"
      },
      "execution_count": 2,
      "outputs": [
        {
          "output_type": "stream",
          "name": "stdout",
          "text": [
            "Ana\n",
            "My name is Ana.\n"
          ]
        }
      ]
    },
    {
      "cell_type": "code",
      "source": [
        "import requests\n",
        "\n",
        "# Link to your raw text file\n",
        "url = \"https://raw.githubusercontent.com/MK316/Coding4ET/main/data/sample.txt\"\n",
        "\n",
        "# Reading the file content\n",
        "mydata = requests.get(url)\n",
        "content = mydata.text\n",
        "\n",
        "# Displaying the content\n",
        "print(content)"
      ],
      "metadata": {
        "colab": {
          "base_uri": "https://localhost:8080/"
        },
        "id": "C1pvRr4UKnhm",
        "outputId": "a9e29809-3250-4c5d-ad0b-4406c9ad45a8"
      },
      "execution_count": 7,
      "outputs": [
        {
          "output_type": "stream",
          "name": "stdout",
          "text": [
            "A Fox one day spied a beautiful bunch of ripe grapes hanging from a vine trained along the branches of a tree. The grapes seemed ready to burst with juice, and the Fox's mouth watered as he gazed longingly at them.\n",
            "\n",
            "The bunch hung from a high branch, and the Fox had to jump for it. The first time he jumped he missed it by a long way. So he walked off a short distance and took a running leap at it, only to fall short once more. Again and again he tried, but in vain.\n",
            "\n",
            "Now he sat down and looked at the grapes in disgust.\n",
            "\n"
          ]
        }
      ]
    },
    {
      "cell_type": "code",
      "source": [
        "from IPython.display import Image, display\n",
        "\n",
        "# URL of your image on GitHub (raw link)\n",
        "url = \"https://raw.githubusercontent.com/MK316/Coding4ET/main/images/logo.png\"\n",
        "\n",
        "# Display the image directly from the URL\n",
        "display(Image(url=url))\n"
      ],
      "metadata": {
        "colab": {
          "base_uri": "https://localhost:8080/",
          "height": 343
        },
        "id": "g6LT9wkmKq2H",
        "outputId": "28d0a7dc-a79d-40d4-de34-04fa3b43fe70"
      },
      "execution_count": 8,
      "outputs": [
        {
          "output_type": "display_data",
          "data": {
            "text/html": [
              "<img src=\"https://raw.githubusercontent.com/MK316/Coding4ET/main/images/logo.png\"/>"
            ],
            "text/plain": [
              "<IPython.core.display.Image object>"
            ]
          },
          "metadata": {}
        }
      ]
    },
    {
      "cell_type": "markdown",
      "source": [
        "# Characteristics of Python Variables:\n",
        "\n",
        "1. Dynamically Typed: Python automatically identifies the data type of a variable based on the type of its value, which means you don’t have to explicitly declare the data type of a variable.\n",
        "2. Mutable: The value of a variable can be changed after it is created.\n",
        "3. Rules for Python variables:\n",
        "- Must start with a letter or the underscore character (_).\n",
        "- Cannot start with a number.\n",
        "- Can only contain alpha-numeric characters and underscores (A-z, 0-9, and _ ).\n",
        "- Case-sensitive (age, Age, and AGE are three different variables)."
      ],
      "metadata": {
        "id": "fK04jxE7NCBi"
      }
    },
    {
      "cell_type": "code",
      "source": [
        "x=5\n",
        "y=\"Hello, World!\"\n",
        "\n",
        "print(x)\n",
        "print(y)\n",
        "\n",
        "# Here, x is a variable of type int (integer), and y is a variable of type str (string)."
      ],
      "metadata": {
        "id": "rvVqUuUoNSEa"
      },
      "execution_count": null,
      "outputs": []
    },
    {
      "cell_type": "markdown",
      "source": [
        "# Variable Types\n",
        "\n",
        "Python has various data types including:\n",
        "\n",
        "- Integers (int): Whole numbers like 3, 300, -219.\n",
        "- Floating Point (float): Numbers with a decimal point like 2.3, 3.14, -0.001.\n",
        "- Strings (str): Ordered sequence of characters like \"Hello\", \"World123\", \"Python!\".\n",
        "- Boolean (bool): Represents True or False.\n",
        "\n",
        "**Global variables**\n",
        "\n",
        "-Definition: A global variable is declared outside of all functions. This means it is accessible from any part of the program, including inside functions.\n",
        "-Scope: Global scope – accessible anywhere in the program.\n",
        "\n",
        "**Local Variables**\n",
        "- Definition: A local variable is declared inside a function. It is only accessible within that function and not outside of it.\n",
        "- Scope: Local scope – accessible only within the function where it is declared.\n",
        "\n",
        "[4] Comments: Use comments to describe complex operations or reasons behind choosing certain variable names."
      ],
      "metadata": {
        "id": "JUElR7DgN2JU"
      }
    },
    {
      "cell_type": "code",
      "source": [
        "# Cell 1: Creating Variables\n",
        "name = \"John Doe\"\n",
        "age = 30\n",
        "height = 5.9\n",
        "is_student = False"
      ],
      "metadata": {
        "id": "ahjlML7eO7uR"
      },
      "execution_count": 9,
      "outputs": []
    },
    {
      "cell_type": "code",
      "source": [
        "# Cell 2: Working with Variables\n",
        "print(f\"Name: {name}\")\n",
        "print(f\"Age: {age}\")\n",
        "print(f\"Height: {height} feet\")\n",
        "print(f\"Is a student: {is_student}\")"
      ],
      "metadata": {
        "colab": {
          "base_uri": "https://localhost:8080/"
        },
        "id": "qHAeJnQHO-Lg",
        "outputId": "7923064a-7006-4ff8-e5bc-27d27d981dad"
      },
      "execution_count": 10,
      "outputs": [
        {
          "output_type": "stream",
          "name": "stdout",
          "text": [
            "Name: John Doe\n",
            "Age: 30\n",
            "Height: 5.9 feet\n",
            "Is a student: False\n"
          ]
        }
      ]
    },
    {
      "cell_type": "code",
      "source": [
        "# Cell 3: Changing Variable Value\n",
        "age = 31\n",
        "print(f\"Updated Age: {age}\")"
      ],
      "metadata": {
        "colab": {
          "base_uri": "https://localhost:8080/"
        },
        "id": "qqj9ZZU4PHsc",
        "outputId": "074dcdbb-b191-4a0e-eb44-c6d73b425063"
      },
      "execution_count": 11,
      "outputs": [
        {
          "output_type": "stream",
          "name": "stdout",
          "text": [
            "Updated Age: 31\n"
          ]
        }
      ]
    },
    {
      "cell_type": "markdown",
      "source": [
        "# 3.4 Operators\n",
        "**1. Types of Operators**\n",
        "\n",
        "Python operators can be classified into several categories:\n",
        "\n",
        "**A. Arithmetic Operators**\n",
        "1) Addition (+): Adds two operands. Example: x + y\n",
        "\n",
        "2) Subtraction (-): Subtracts the right operand from the left operand. Example: x - y\n",
        "\n",
        "3)Multiplication (*): Multiplies two operands. Example: x * y\n",
        "\n",
        "4) Division (/): Divides the left operand by the right operand. Example: x / y"
      ],
      "metadata": {
        "id": "RENeCCxIPfNO"
      }
    },
    {
      "cell_type": "code",
      "source": [
        "x= 4+3\n",
        "y= 4-3\n",
        "z= 4*3\n",
        "k= 4/3\n",
        "\n",
        "print(x,y,z,k)"
      ],
      "metadata": {
        "colab": {
          "base_uri": "https://localhost:8080/"
        },
        "id": "Yt9e1_2eRToS",
        "outputId": "93959a47-f888-4fd6-d1bf-7c995c3237e3"
      },
      "execution_count": 13,
      "outputs": [
        {
          "output_type": "stream",
          "name": "stdout",
          "text": [
            "7 1 12 1.3333333333333333\n"
          ]
        }
      ]
    },
    {
      "cell_type": "code",
      "source": [
        "y = \"apple\"\n",
        "z = 'an'\n",
        "k = z+y\n",
        "\n",
        "print(k)\n",
        "print(z + ' '+ y)\n"
      ],
      "metadata": {
        "colab": {
          "base_uri": "https://localhost:8080/"
        },
        "id": "kHaOZH5aSnYK",
        "outputId": "328e4e37-8af0-4b1f-8cc4-40b567ef6a7f"
      },
      "execution_count": 14,
      "outputs": [
        {
          "output_type": "stream",
          "name": "stdout",
          "text": [
            "anapple\n",
            "an apple\n"
          ]
        }
      ]
    },
    {
      "cell_type": "code",
      "source": [
        "x = 12\n",
        "y = 6\n",
        "\n",
        "print(x + y)\n",
        "print(x - y)\n",
        "print(x * y)\n",
        "print(x / y)\n",
        "print(x % y)\n",
        "print(x ** y)\n",
        "print(x // y)\n"
      ],
      "metadata": {
        "colab": {
          "base_uri": "https://localhost:8080/"
        },
        "id": "BvBk-zsOTTrZ",
        "outputId": "1c20fc08-94df-4728-9769-3d1471627d3f"
      },
      "execution_count": 15,
      "outputs": [
        {
          "output_type": "stream",
          "name": "stdout",
          "text": [
            "18\n",
            "6\n",
            "72\n",
            "2.0\n",
            "0\n",
            "2985984\n",
            "2\n"
          ]
        }
      ]
    },
    {
      "cell_type": "markdown",
      "source": [
        "**B. Comparison Operators**\n",
        "\n",
        "1) Equal (==): True if both operands are equal. Example: x == y **Note that a single equal sign (=) is used in Python to assign a value to a variable: x = 3\n",
        "\n",
        "2) Not Equal (!=): True if operands are not equal. Example: x != y\n",
        "\n",
        "3) Greater than (>): True if the left operand is greater than the right operand. Example: x > y\n",
        "\n",
        "4) Less than (<): True if the left operand is less than the right operand. Example: x < y\n",
        "\n",
        "5) Greater than or equal to (>=): True if the left operand is greater than or equal to the right operand. Example: x >= y\n",
        "\n",
        "6) Less than or equal to (<=): True if the left operand is less than or equal to the right operand. Example: x <= y"
      ],
      "metadata": {
        "id": "R7ybsACrUjej"
      }
    },
    {
      "cell_type": "code",
      "source": [
        "x = 10\n",
        "y = 5\n",
        "\n",
        "print(x>y)\n",
        "print(x<y)\n",
        "print(x==y)\n",
        "print(x!=y)\n",
        "print(x>=y)\n",
        "print(x<=y)"
      ],
      "metadata": {
        "colab": {
          "base_uri": "https://localhost:8080/"
        },
        "id": "ydvLwsl2UEZ5",
        "outputId": "fffd337b-d920-4caf-b61e-fc8c4cfdb583"
      },
      "execution_count": 16,
      "outputs": [
        {
          "output_type": "stream",
          "name": "stdout",
          "text": [
            "True\n",
            "False\n",
            "False\n",
            "True\n",
            "True\n",
            "False\n"
          ]
        }
      ]
    },
    {
      "cell_type": "markdown",
      "source": [
        "**C. Logical Operators**\n",
        "\n",
        "\n",
        "1) And (and): True if both operands are true. Example: x and y\n",
        "\n",
        "2) Or (or): True if either of the operands is true. Example: x or y\n",
        "\n",
        "3) Not (not): True if the operand is false (complements the operand). Example: not"
      ],
      "metadata": {
        "id": "UbRLfYaUUwBx"
      }
    },
    {
      "cell_type": "code",
      "source": [
        "# Define two numbers\n",
        "\n",
        "x = input()\n",
        "x = int(x)\n",
        "\n",
        "# Use the 'and' operator to check two conditions\n",
        "if x > 0 and x < 10:\n",
        "    print(\"Your number is between 0 and 10.\")\n",
        "else:\n",
        "    print(\"Your number is greater than 10.\")"
      ],
      "metadata": {
        "colab": {
          "base_uri": "https://localhost:8080/"
        },
        "id": "1wF96RJRU677",
        "outputId": "f3a6fab1-e028-4d7e-fc0f-0e2bfd2ac2be"
      },
      "execution_count": 17,
      "outputs": [
        {
          "output_type": "stream",
          "name": "stdout",
          "text": [
            "10\n",
            "Your number is greater than 10.\n"
          ]
        }
      ]
    },
    {
      "cell_type": "markdown",
      "source": [
        "**Coding examples: text + text**"
      ],
      "metadata": {
        "id": "op1hetS5VqJR"
      }
    },
    {
      "cell_type": "code",
      "source": [
        "# Function to determine whether to use 'a' or 'an'\n",
        "def add_article(noun):\n",
        "    #Check if the first letter of the noun is a vowel.\n",
        "    if noun[0].lower() in ['a', 'e', 'i', 'o', 'u']:\n",
        "       return f\"an {noun}\"\n",
        "    else:\n",
        "       return f\"a {noun}\"\n",
        "\n",
        "#Get noun input form the user\n",
        "noun = input(\"Enter a noun: \")\n",
        "\n",
        "#Print the result with 'a' or 'an'\n",
        "print(add_article(noun))\n"
      ],
      "metadata": {
        "colab": {
          "base_uri": "https://localhost:8080/"
        },
        "id": "B4qaCKXLVlmh",
        "outputId": "f5230095-9955-4574-e110-58a0792234c1"
      },
      "execution_count": 21,
      "outputs": [
        {
          "output_type": "stream",
          "name": "stdout",
          "text": [
            "Enter a noun: banana\n",
            "a banana\n"
          ]
        }
      ]
    }
  ]
}